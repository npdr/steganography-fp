{
 "cells": [
  {
   "cell_type": "code",
   "execution_count": 243,
   "id": "2c0eab43",
   "metadata": {},
   "outputs": [],
   "source": [
    "import numpy as np\n",
    "import matplotlib\n",
    "import matplotlib.pyplot as plt\n",
    "from skimage.color import rgb2gray, rgba2rgb\n",
    "import math\n",
    "\n",
    "sector_size = 9\n",
    "idx = 5\n"
   ]
  },
  {
   "cell_type": "code",
   "execution_count": 244,
   "id": "505ed17a",
   "metadata": {},
   "outputs": [],
   "source": [
    "def toGrayScale(img):\n",
    "    imgGray = img\n",
    "    if(img.shape[2] == 4):\n",
    "        imgGray = rgb2gray(rgba2rgb(img))\n",
    "        return imgGray\n",
    "    imgGray = rgb2gray(img)\n",
    "    return imgGray\n",
    "\n",
    "def applyFFT(img):\n",
    "    imgFFT = np.fft.fft2(img)\n",
    "    return imgFFT\n",
    "\n",
    "def applyIFFT(img):\n",
    "    imgIFFT = np.fft.ifft2(img)\n",
    "    return imgIFFT\n",
    "\n",
    "def encode(img1, img2):\n",
    "    imgBase = applyFFT(img1)\n",
    "    height, width = imgBase.shape\n",
    "    \n",
    "    imgSecret = applyFFT(img2)\n",
    "    imgSecretFlat = imgSecret.ravel()\n",
    "    ind = 0\n",
    "    \n",
    "    if((height*width)/sector_size**2 < len(imgSecretFlat)):\n",
    "        print('Encoding not possible')\n",
    "    \n",
    "    for x in range (0, height-idx, sector_size):\n",
    "        for y in range (0, width-idx, sector_size):\n",
    "            if ind < len(imgSecretFlat):\n",
    "                imgBase[x+idx, y+idx] = imgSecretFlat[ind]\n",
    "                #print(ind,x+idx,y+idx)\n",
    "                ind += 1\n",
    "            else:\n",
    "                break\n",
    "    \n",
    "    return applyIFFT(imgBase)\n",
    "\n",
    "def decode(img1,img2):\n",
    "    imgBase = applyFFT(img1)\n",
    "    height, width = imgBase.shape\n",
    "    \n",
    "    secret_h, secret_w = img2.shape\n",
    "    secret = np.zeros((secret_h*secret_w), dtype=np.complex128)\n",
    "    ind = 0\n",
    "    for x in range (0, height-idx, sector_size):\n",
    "        for y in range (0, width-idx, sector_size):\n",
    "            if ind < len(secret):\n",
    "                secret[ind] = imgBase[x+idx, y+idx]\n",
    "                #print(ind,x+idx,y+idx)\n",
    "                ind += 1\n",
    "            else:\n",
    "                break\n",
    "    secret = secret.reshape((secret_h,secret_w))\n",
    "    return applyIFFT(secret)\n",
    "    "
   ]
  },
  {
   "cell_type": "code",
   "execution_count": 245,
   "id": "a1c1235f",
   "metadata": {},
   "outputs": [],
   "source": [
    "imgBaseName = './images/input.jpg'\n",
    "imgSecretName = './images/qr.png'\n",
    "\n",
    "imgBase = plt.imread(imgBaseName)\n",
    "\n",
    "imgBaseGray = toGrayScale(imgBase)\n",
    "matplotlib.image.imsave('./images/pre.png', imgBaseGray)\n",
    "\n",
    "imgSecret = plt.imread(imgSecretName)\n",
    "imgSecretGray = toGrayScale(imgSecret)"
   ]
  },
  {
   "cell_type": "code",
   "execution_count": null,
   "id": "77e395db",
   "metadata": {},
   "outputs": [],
   "source": [
    "fig, ax = plt.subplots(1,4,figsize=(15,15))\n",
    "ax[0].set_title('Base Image', fontsize = 15)\n",
    "ax[0].imshow(imgBaseGray, cmap='gray')\n",
    "\n",
    "ax[1].set_title('Secret Message', fontsize = 15)\n",
    "ax[1].imshow(imgSecretGray, cmap='gray')\n",
    "\n",
    "finalImage = encode(imgBaseGray, imgSecretGray)\n",
    "matplotlib.image.imsave('./images/encoded.png', abs(finalImage))\n",
    "ax[2].set_title('Encoded Image', fontsize = 15)\n",
    "ax[2].imshow(abs(finalImage), cmap='gray')\n",
    "\n",
    "secret = decode(finalImage,imgSecretGray)\n",
    "matplotlib.image.imsave('./images/decoded.png', abs(secret))\n",
    "ax[3].set_title('Decoded Message', fontsize = 15)\n",
    "ax[3].imshow(abs(secret), cmap='gray')"
   ]
  },
  {
   "cell_type": "code",
   "execution_count": null,
   "id": "fec6f954",
   "metadata": {},
   "outputs": [],
   "source": []
  }
 ],
 "metadata": {
  "kernelspec": {
   "display_name": "Python 3",
   "language": "python",
   "name": "python3"
  },
  "language_info": {
   "codemirror_mode": {
    "name": "ipython",
    "version": 3
   },
   "file_extension": ".py",
   "mimetype": "text/x-python",
   "name": "python",
   "nbconvert_exporter": "python",
   "pygments_lexer": "ipython3",
   "version": "3.8.5"
  }
 },
 "nbformat": 4,
 "nbformat_minor": 5
}

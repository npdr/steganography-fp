{
 "cells": [
  {
   "cell_type": "code",
   "execution_count": null,
   "source": [
    "import numpy as np\n",
    "import matplotlib\n",
    "import matplotlib.pyplot as plt\n",
    "import imageio"
   ],
   "outputs": [],
   "metadata": {}
  },
  {
   "cell_type": "code",
   "execution_count": null,
   "source": [
    "sector_size = 3 # size of the sector used to embed the secret message\n",
    "idx = 1 # center of the sector"
   ],
   "outputs": [],
   "metadata": {}
  },
  {
   "cell_type": "code",
   "execution_count": null,
   "source": [
    "# Convert from RGB or RGBA to HSV\n",
    "def convertHSV(img):\n",
    "    return matplotlib.colors.rgb_to_hsv(img[:,:,:3].astype(np.float64))\n",
    "\n",
    "# Convert from HSV to RGB\n",
    "def convertRGB(img):\n",
    "    return matplotlib.colors.hsv_to_rgb(img.astype(np.float64))\n",
    "\n",
    "# Normalize image\n",
    "def normalize(img):\n",
    "    imgMin = np.min(img)\n",
    "    imgMax = np.max(img)\n",
    "    return (img-imgMin)/(imgMax-imgMin)\n",
    "\n",
    "# Get V channel of HSV image with values [0, 1]\n",
    "def floatV(img):\n",
    "    return img[:,:,2].astype(np.float64)/255\n",
    "\n",
    "# Execute modulo operation in a image\n",
    "def modulo(img, value):\n",
    "    return (img.astype(np.int64)+value) % value"
   ],
   "outputs": [],
   "metadata": {}
  },
  {
   "cell_type": "code",
   "execution_count": null,
   "source": [
    "# Apply FFT and shift\n",
    "def applyFFT(img):\n",
    "    imgFFT = np.fft.fft2(img)\n",
    "    return np.fft.fftshift(imgFFT)\n",
    "\n",
    "# Apply shift and IFFT\n",
    "def applyIFFT(img):\n",
    "    imgShift = np.fft.ifftshift(img)\n",
    "    imgIFFT = np.fft.ifft2(imgShift)\n",
    "    return imgIFFT"
   ],
   "outputs": [],
   "metadata": {}
  },
  {
   "cell_type": "code",
   "execution_count": null,
   "source": [
    "# Main embedding function:\n",
    "# We apply FFT on both images, then we divide the base image into \n",
    "# sectors of sector_size x sector_size.\n",
    "# On the center of each sector (given by idx), we embed each secret message's frequency value\n",
    "def encode(img1, img2):\n",
    "    imgBase = applyFFT(np.copy(img1))\n",
    "    height, width = imgBase.shape\n",
    "    \n",
    "    imgSecret = applyFFT(img2)\n",
    "    imgSecretFlat = imgSecret.flatten()\n",
    "    ind = 0\n",
    "    \n",
    "    if((height*width)/sector_size**2 < len(imgSecretFlat)):\n",
    "        print('Encoding not possible')\n",
    "    \n",
    "    for x in range (0, height-idx, sector_size):\n",
    "        for y in range (0, width-idx, sector_size):\n",
    "            if ind < len(imgSecretFlat):\n",
    "                imgBase[x+idx, y+idx] = imgSecretFlat[ind]\n",
    "                ind += 1\n",
    "            else:\n",
    "                break\n",
    "    return applyIFFT(imgBase)"
   ],
   "outputs": [],
   "metadata": {}
  },
  {
   "cell_type": "code",
   "execution_count": null,
   "source": [
    "# Main decoding function:\n",
    "# Similar to the embedding function, we recover the secret message\n",
    "# from the base image that was previously encoded\n",
    "def decode(img1,key):\n",
    "    imgBase = applyFFT(img1)\n",
    "    height, width = imgBase.shape\n",
    "    \n",
    "    secret_h, secret_w = key\n",
    "    secret = np.zeros((secret_h*secret_w), dtype=np.complex128)\n",
    "    ind = 0\n",
    "    for x in range (0, height-idx, sector_size):\n",
    "        for y in range (0, width-idx, sector_size):\n",
    "            if ind < len(secret):\n",
    "                secret[ind] = imgBase[x+idx, y+idx]\n",
    "                ind += 1\n",
    "            else:\n",
    "                break\n",
    "    secret = secret.reshape((secret_h,secret_w))\n",
    "    return applyIFFT(secret)   "
   ],
   "outputs": [],
   "metadata": {}
  },
  {
   "cell_type": "code",
   "execution_count": null,
   "source": [
    "imgBaseName = './images/input_windows.jpg'\n",
    "# reading the base image\n",
    "imgBase = plt.imread(imgBaseName)\n",
    "imgBaseHSV = convertHSV(imgBase)\n",
    "imgBaseV = floatV(imgBaseHSV)\n",
    "\n",
    "imgSecretName = './images/input_qr.png'\n",
    "# reading the secret message\n",
    "imgSecret = plt.imread(imgSecretName)\n",
    "imgSecretHSV = convertHSV(imgSecret)\n",
    "imgSecretV = floatV(imgSecretHSV)"
   ],
   "outputs": [],
   "metadata": {}
  },
  {
   "cell_type": "code",
   "execution_count": null,
   "source": [
    "plt.figure(figsize=(15,5))\n",
    "\n",
    "ax1 = plt.subplot(121)\n",
    "ax1.title.set_text('Base Image')\n",
    "plt.imshow(imgBase)\n",
    "\n",
    "ax2 = plt.subplot(122)\n",
    "ax2.title.set_text('Secret Message')\n",
    "plt.imshow(imgSecret)"
   ],
   "outputs": [],
   "metadata": {}
  },
  {
   "cell_type": "code",
   "execution_count": null,
   "source": [
    "# embedding the secret message\n",
    "encodedImageV = encode(imgBaseV, imgSecretV).real\n",
    "encodedImage = imgBaseHSV\n",
    "encodedImage[:,:,2] = encodedImageV.astype(np.float64)*255\n",
    "\n",
    "# converting the image back to rgb and saving the encoded image\n",
    "finalImage = np.copy(imgBase)\n",
    "finalImage[:,:,:3] = convertRGB(encodedImage)\n",
    "imageio.imsave('./images/output_encoded.png', finalImage)\n",
    "\n",
    "# image used to remove some noise on the encoded image (first approach)\n",
    "blankImage = np.zeros(imgSecretV.shape)+1\n",
    "noise = decode(encode(imgBaseV, blankImage).real, imgSecretV.shape).real\n",
    "\n",
    "# create a decode key from the noise generated (second approach)\n",
    "finalImageHSV = convertHSV(finalImage)\n",
    "finalImageV = floatV(finalImageHSV)\n",
    "noisySecret = decode(finalImageV, imgSecretV.shape).real\n",
    "key = modulo((noisySecret*255).astype(np.int32)-(imgSecretV*255).astype(np.int32), 256).astype(np.uint8)\n",
    "imageio.imsave('./images/key.png', key)\n",
    "\n",
    "plt.figure(figsize=(15,5))\n",
    "ax = plt.subplot(131)\n",
    "ax.title.set_text('Encoded Image')\n",
    "plt.imshow(finalImage)\n",
    "\n",
    "ax = plt.subplot(132)\n",
    "ax.title.set_text('Blank noise (first approach)')\n",
    "plt.imshow(noise, cmap='gray')\n",
    "\n",
    "ax = plt.subplot(133)\n",
    "ax.title.set_text('Generated key (second approach)')\n",
    "plt.imshow(key, cmap='gray')"
   ],
   "outputs": [],
   "metadata": {}
  },
  {
   "cell_type": "code",
   "execution_count": null,
   "source": [
    "# retrieving the secret message thats embedded on the encoded image using the first approach\n",
    "secret = decode(encodedImageV, imgSecretV.shape).real\n",
    "finalSecret = (normalize(secret.real-noise.real)*255).astype(np.uint8)\n",
    "imageio.imsave('./images/decoded_first1.png', finalSecret)\n",
    "\n",
    "plt.figure(figsize=(15,5))\n",
    "ax = plt.subplot(121)\n",
    "ax.title.set_text('Decoded Message before noise removal')\n",
    "plt.imshow(secret, cmap=\"gray\")\n",
    "\n",
    "ax = plt.subplot(122)\n",
    "ax.title.set_text('Decoded Message after noise removal')\n",
    "plt.imshow(finalSecret, cmap=\"gray\")"
   ],
   "outputs": [],
   "metadata": {}
  },
  {
   "cell_type": "code",
   "execution_count": null,
   "source": [
    "# retrieving the secret message thats embedded on the encoded image using the first approach with saved image\n",
    "receivedImage = imageio.imread('./images/output_encoded.png')\n",
    "receivedImageHSV = convertHSV(receivedImage)\n",
    "receivedImageV = floatV(receivedImageHSV)\n",
    "\n",
    "secret = decode(receivedImageV, imgSecretV.shape).real\n",
    "finalSecret = (normalize(secret.real-noise.real)*255).astype(np.uint8)\n",
    "imageio.imsave('./images/decoded_first2.png', finalSecret)\n",
    "\n",
    "plt.figure(figsize=(15,5))\n",
    "ax = plt.subplot(121)\n",
    "ax.title.set_text('Decoded Message before noise removal')\n",
    "plt.imshow(secret, cmap=\"gray\")\n",
    "\n",
    "ax = plt.subplot(122)\n",
    "ax.title.set_text('Decoded Message after noise removal')\n",
    "plt.imshow(finalSecret, cmap=\"gray\")"
   ],
   "outputs": [],
   "metadata": {}
  },
  {
   "cell_type": "code",
   "execution_count": null,
   "source": [
    "# retrieving the secret message thats embedded on the encoded image using the second approach\n",
    "receivedImage = imageio.imread('./images/output_encoded.png')\n",
    "receivedImageHSV = convertHSV(receivedImage)\n",
    "receivedImageV = floatV(receivedImageHSV)\n",
    "\n",
    "receivedKey = imageio.imread('./images/key.png')\n",
    "\n",
    "secret = decode(receivedImageV, receivedKey.shape).real\n",
    "finalSecret = (modulo((secret.real*255).astype(np.int32)-receivedKey, 256)).astype(np.uint8)\n",
    "imageio.imsave('./images/decoded_second.png', finalSecret)\n",
    "\n",
    "plt.figure(figsize=(15,5))\n",
    "ax = plt.subplot(121)\n",
    "ax.title.set_text('Decoded Message before noise removal')\n",
    "plt.imshow(secret, cmap=\"gray\")\n",
    "\n",
    "ax = plt.subplot(122)\n",
    "ax.title.set_text('Decoded Message after noise removal')\n",
    "plt.imshow(finalSecret, cmap=\"gray\")"
   ],
   "outputs": [],
   "metadata": {}
  },
  {
   "cell_type": "code",
   "execution_count": null,
   "source": [],
   "outputs": [],
   "metadata": {}
  }
 ],
 "metadata": {
  "interpreter": {
   "hash": "31f2aee4e71d21fbe5cf8b01ff0e069b9275f58929596ceb00d14d90e3e16cd6"
  },
  "kernelspec": {
   "display_name": "Python 3",
   "language": "python",
   "name": "python3"
  },
  "language_info": {
   "codemirror_mode": {
    "name": "ipython",
    "version": 3
   },
   "file_extension": ".py",
   "mimetype": "text/x-python",
   "name": "python",
   "nbconvert_exporter": "python",
   "pygments_lexer": "ipython3",
   "version": "3.9.5"
  }
 },
 "nbformat": 4,
 "nbformat_minor": 5
}